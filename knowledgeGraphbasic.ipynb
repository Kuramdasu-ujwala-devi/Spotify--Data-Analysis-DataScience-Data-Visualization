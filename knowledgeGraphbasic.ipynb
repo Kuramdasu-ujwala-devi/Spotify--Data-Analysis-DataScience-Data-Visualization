{
 "cells": [
  {
   "cell_type": "markdown",
   "metadata": {},
   "source": [
    "## **Knowledge Graph**"
   ]
  },
  {
   "cell_type": "markdown",
   "metadata": {},
   "source": [
    "### What is a **Knowledge Graph**?\n",
    "#### The **knowledge graph** is a knowledge model: a collection of interlinked descriptions of concepts, entities, relationships and events. \n",
    "#### **Knowledge graphs** put data in context via linking and semantic metadata and this way provide a framework for data integration, unification, analytics and sharing."
   ]
  },
  {
   "cell_type": "markdown",
   "metadata": {},
   "source": [
    "**This ia a basic implementation of Knowledge Graph**"
   ]
  },
  {
   "cell_type": "code",
   "execution_count": 1,
   "metadata": {},
   "outputs": [],
   "source": [
    "# importing libraries\n",
    "import kglab\n",
    "import rdflib\n",
    "\n",
    "#declaring a knowledge graph\n",
    "kg = kglab.KnowledgeGraph(name='new KG')\n",
    "\n",
    "# adding entities to the graph\n",
    "kg.add(rdflib.term.Literal('Kohli'),rdflib.term.Literal('loves'),rdflib.term.Literal('cricket'))\n",
    "kg.add(rdflib.term.Literal('Sachin'),rdflib.term.Literal('loves'),rdflib.term.Literal('cricket'))\n",
    "kg.add(rdflib.term.Literal('Sachin'),rdflib.term.Literal('loves'),rdflib.term.Literal('Football'))\n",
    "kg.add(rdflib.term.Literal('SAchin'),rdflib.term.Literal('loves'),rdflib.term.Literal('Indian Food'))\n",
    "kg.add(rdflib.term.Literal('Dhoni'),rdflib.term.Literal('loves'),rdflib.term.Literal('cricket'))\n",
    "kg.add(rdflib.term.Literal('Dhoni'),rdflib.term.Literal('loves'),rdflib.term.Literal('Football'))"
   ]
  },
  {
   "cell_type": "code",
   "execution_count": 2,
   "metadata": {},
   "outputs": [],
   "source": [
    "subgraph = kglab.SubgraphTensor(kg)\n",
    "pyvis_graph = subgraph.build_pyvis_graph()\n",
    "\n",
    "pyvis_graph.force_atlas_2based()\n",
    "pyvis_graph.show(\"tmp.fig01.html\")"
   ]
  }
 ],
 "metadata": {
  "interpreter": {
   "hash": "cf92aa13fedf815d5c8dd192b8d835913fde3e8bc926b2a0ad6cc74ef2ba3ca2"
  },
  "kernelspec": {
   "display_name": "Python 3.9.5 64-bit",
   "language": "python",
   "name": "python3"
  },
  "language_info": {
   "codemirror_mode": {
    "name": "ipython",
    "version": 3
   },
   "file_extension": ".py",
   "mimetype": "text/x-python",
   "name": "python",
   "nbconvert_exporter": "python",
   "pygments_lexer": "ipython3",
   "version": "3.9.5"
  },
  "orig_nbformat": 4
 },
 "nbformat": 4,
 "nbformat_minor": 2
}
